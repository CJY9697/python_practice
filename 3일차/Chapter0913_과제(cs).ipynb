{
 "cells": [
  {
   "cell_type": "markdown",
   "metadata": {
    "id": "WXEwMsfUct7U"
   },
   "source": [
    "컴퓨터 기초 지식을 의미하는 CS(Computer science)는<br>\n",
    "코딩 테스트와 함께 기술 면접에서 지원자에게 필수적으로 요구합니다.<br>\n",
    "\n",
    "수업 내용 중 기술 면접에 자주 나오는 질문 3가지와 기본적으로 알아야 할 내용 과제로 선정했습니다.<br>\n",
    "\n",
    "관련 내용에 대해서는 구글링 또는 관련 서적을 통해 상세히 공부하시고<br>\n",
    "답변은 최대한 핵심만 담아 간결하게 작성해주세요<br>\n",
    "\n",
    "기술 블로그를 운영 중이신 경우<br>\n",
    "답변 내용을 기술 블로그에 작성하신 후 링크를 답변에 남겨주셔도 됩니다.<br>"
   ]
  },
  {
   "cell_type": "markdown",
   "metadata": {
    "id": "qoyC9wF-3hvs"
   },
   "source": [
    "-----"
   ]
  },
  {
   "cell_type": "markdown",
   "metadata": {
    "id": "rAD_O3Gmc_43"
   },
   "source": [
    "[문제1]\n",
    "\n",
    "list와 tuple의 주된 차이점은 무엇인가요?"
   ]
  },
  {
   "cell_type": "markdown",
   "metadata": {},
   "source": [
    "list는 가변성, tuple은 불변성을 가지고 있다. 그래서 수정되면 안되는 내용을 넣을때는 tuple을 쓴다."
   ]
  },
  {
   "cell_type": "markdown",
   "metadata": {},
   "source": [
    "---"
   ]
  },
  {
   "cell_type": "markdown",
   "metadata": {
    "id": "3uK_auXYdgk2"
   },
   "source": [
    "[문제2]\n",
    "\n",
    "Python의 set에 대해 설명해주세요"
   ]
  },
  {
   "cell_type": "markdown",
   "metadata": {},
   "source": [
    "set는 집합에 관련된 것을 쉽게 처리하기 위해 만든 자료형이다. 중복을 허용하지 않고, 순서가 없다는 특징이 있다. "
   ]
  },
  {
   "cell_type": "markdown",
   "metadata": {},
   "source": [
    "---"
   ]
  },
  {
   "cell_type": "markdown",
   "metadata": {},
   "source": [
    "[문제3]\n",
    "\n",
    "Python의 list는 연결리스트(linked list)인가요?"
   ]
  },
  {
   "cell_type": "markdown",
   "metadata": {},
   "source": [
    "파이썬의 리스트는 동적 배열이다. 연결리스트는 각 요소가 개별적인 메모리 공간에 저장되고, 다음 요소를 가리키는 포인터를 포함한다."
   ]
  },
  {
   "cell_type": "markdown",
   "metadata": {},
   "source": [
    "---"
   ]
  },
  {
   "cell_type": "markdown",
   "metadata": {},
   "source": [
    "\n",
    "[문제4]\n",
    "\n",
    "딕셔너리 자료형에 대해 설명해주세요."
   ]
  },
  {
   "cell_type": "markdown",
   "metadata": {},
   "source": [
    "여러개의 값이 정렬되고 값끼리의 연관성이 존재하는 자료형이다."
   ]
  },
  {
   "cell_type": "markdown",
   "metadata": {},
   "source": [
    "---"
   ]
  }
 ],
 "metadata": {
  "colab": {
   "authorship_tag": "ABX9TyP7YKA5FdtGggYfD74V7SMJ",
   "provenance": []
  },
  "kernelspec": {
   "display_name": "Python 3",
   "name": "python3"
  },
  "language_info": {
   "name": "python"
  }
 },
 "nbformat": 4,
 "nbformat_minor": 0
}
