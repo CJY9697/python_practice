{
 "cells": [
  {
   "cell_type": "markdown",
   "metadata": {},
   "source": [
    "사용자로부터 이름과 나이를 입력 받아, \"안녕하세요, [이름]님! 당신은 [나이]살입니다.\"라고 출력하는 함수 greet_user를 작성하세요."
   ]
  },
  {
   "cell_type": "code",
   "execution_count": 7,
   "metadata": {},
   "outputs": [
    {
     "name": "stdout",
     "output_type": "stream",
     "text": [
      "안녕하세요.최재영님! 당신은 29살 입니다.\n"
     ]
    }
   ],
   "source": [
    "def greet_user():\n",
    "    입력 = input(\"이름을 입력하고 띄어쓰기를 한 후 나이를 입력해주세요!\")\n",
    "    name, age = 입력.split(\" \")\n",
    "    print(f\"안녕하세요.{name}님! 당신은 {age}살 입니다.\")\n",
    "\n",
    "greet_user()\n"
   ]
  },
  {
   "cell_type": "code",
   "execution_count": 11,
   "metadata": {},
   "outputs": [
    {
     "name": "stdout",
     "output_type": "stream",
     "text": [
      "안녕하세요.최재영님! 당신은 29살 입니다.\n"
     ]
    }
   ],
   "source": [
    "def greet_user(name: str, age: int):\n",
    "    print(f\"안녕하세요.{name}님! 당신은 {age}살 입니다.\")\n",
    "\n",
    "greet_user('최재영', 29)"
   ]
  }
 ],
 "metadata": {
  "kernelspec": {
   "display_name": "Python 3",
   "language": "python",
   "name": "python3"
  },
  "language_info": {
   "codemirror_mode": {
    "name": "ipython",
    "version": 3
   },
   "file_extension": ".py",
   "mimetype": "text/x-python",
   "name": "python",
   "nbconvert_exporter": "python",
   "pygments_lexer": "ipython3",
   "version": "3.9.6"
  }
 },
 "nbformat": 4,
 "nbformat_minor": 2
}
