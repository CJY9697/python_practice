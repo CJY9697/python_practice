{
 "cells": [
  {
   "cell_type": "markdown",
   "metadata": {},
   "source": [
    "함수 실행 시간을 측정하는 데코레이터 timer_decorator를 작성하세요. \n",
    "\n",
    "임의의 함수가 실행되는 시간을 측정하여 \"함수 실행 시간: x.xx초\" 형태로 출력하세요."
   ]
  },
  {
   "cell_type": "code",
   "execution_count": 4,
   "metadata": {},
   "outputs": [
    {
     "name": "stdout",
     "output_type": "stream",
     "text": [
      "함수 실행 시간:2.006278초\n"
     ]
    }
   ],
   "source": [
    "import time\n",
    "\n",
    "def timer_decorator(func):\n",
    "    def wrapped(*args,**kwargs):\n",
    "        start_time = time.time()\n",
    "        result = func(*args,**kwargs)\n",
    "        end_time = time.time()\n",
    "        print(f\"함수 실행 시간:{(end_time - start_time):.6f}초\")\n",
    "        return result\n",
    "    return wrapped\n",
    "\n",
    "@ timer_decorator\n",
    "def time_sleep(x):\n",
    "    return time.sleep(x)\n",
    "\n",
    "time_sleep(2)"
   ]
  }
 ],
 "metadata": {
  "kernelspec": {
   "display_name": "Python 3",
   "language": "python",
   "name": "python3"
  },
  "language_info": {
   "codemirror_mode": {
    "name": "ipython",
    "version": 3
   },
   "file_extension": ".py",
   "mimetype": "text/x-python",
   "name": "python",
   "nbconvert_exporter": "python",
   "pygments_lexer": "ipython3",
   "version": "3.13.2"
  }
 },
 "nbformat": 4,
 "nbformat_minor": 2
}
